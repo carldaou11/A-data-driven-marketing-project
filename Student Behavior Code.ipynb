{
 "cells": [
  {
   "cell_type": "code",
   "execution_count": 82,
   "metadata": {},
   "outputs": [],
   "source": [
    "#importing libraries\n",
    "import pandas as pd\n",
    "import numpy as np\n",
    "import seaborn as sns\n",
    "import matplotlib.pyplot as plt"
   ]
  },
  {
   "cell_type": "code",
   "execution_count": 83,
   "metadata": {
    "scrolled": true
   },
   "outputs": [
    {
     "data": {
      "text/html": [
       "<div>\n",
       "<style scoped>\n",
       "    .dataframe tbody tr th:only-of-type {\n",
       "        vertical-align: middle;\n",
       "    }\n",
       "\n",
       "    .dataframe tbody tr th {\n",
       "        vertical-align: top;\n",
       "    }\n",
       "\n",
       "    .dataframe thead th {\n",
       "        text-align: right;\n",
       "    }\n",
       "</style>\n",
       "<table border=\"1\" class=\"dataframe\">\n",
       "  <thead>\n",
       "    <tr style=\"text-align: right;\">\n",
       "      <th></th>\n",
       "      <th>Have you completed any certification courses, or are you currently enrolled in any?</th>\n",
       "      <th>Gender</th>\n",
       "      <th>Department</th>\n",
       "      <th>Height(CM)</th>\n",
       "      <th>Weight(KG)</th>\n",
       "      <th>10th Mark</th>\n",
       "      <th>12th Mark</th>\n",
       "      <th>college mark</th>\n",
       "      <th>hobbies</th>\n",
       "      <th>daily studing time</th>\n",
       "      <th>prefer to study in</th>\n",
       "      <th>salary expectation</th>\n",
       "      <th>Do you like your degree?</th>\n",
       "      <th>possibility of choosing  their career based on their degree :</th>\n",
       "      <th>social medai &amp; video games spending Time</th>\n",
       "      <th>Travelling Time</th>\n",
       "      <th>Stress Level</th>\n",
       "      <th>Financial Status</th>\n",
       "      <th>Are you doing a part-time job right now?</th>\n",
       "    </tr>\n",
       "  </thead>\n",
       "  <tbody>\n",
       "    <tr>\n",
       "      <th>0</th>\n",
       "      <td>No</td>\n",
       "      <td>Male</td>\n",
       "      <td>BCA</td>\n",
       "      <td>100.0</td>\n",
       "      <td>58.0</td>\n",
       "      <td>79.0</td>\n",
       "      <td>65.0</td>\n",
       "      <td>80.0</td>\n",
       "      <td>Video Games</td>\n",
       "      <td>0 - 30 minute</td>\n",
       "      <td>Morning</td>\n",
       "      <td>40000</td>\n",
       "      <td>No</td>\n",
       "      <td>50%</td>\n",
       "      <td>1.30 - 2 hour</td>\n",
       "      <td>30 - 60 minutes</td>\n",
       "      <td>Bad</td>\n",
       "      <td>Bad</td>\n",
       "      <td>No</td>\n",
       "    </tr>\n",
       "    <tr>\n",
       "      <th>1</th>\n",
       "      <td>No</td>\n",
       "      <td>Female</td>\n",
       "      <td>BCA</td>\n",
       "      <td>90.0</td>\n",
       "      <td>40.0</td>\n",
       "      <td>70.0</td>\n",
       "      <td>80.0</td>\n",
       "      <td>70.0</td>\n",
       "      <td>Cinema</td>\n",
       "      <td>30 - 60 minute</td>\n",
       "      <td>Morning</td>\n",
       "      <td>15000</td>\n",
       "      <td>Yes</td>\n",
       "      <td>75%</td>\n",
       "      <td>1 - 1.30 hour</td>\n",
       "      <td>0 - 30 minutes</td>\n",
       "      <td>Bad</td>\n",
       "      <td>Bad</td>\n",
       "      <td>No</td>\n",
       "    </tr>\n",
       "    <tr>\n",
       "      <th>2</th>\n",
       "      <td>Yes</td>\n",
       "      <td>Male</td>\n",
       "      <td>BCA</td>\n",
       "      <td>159.0</td>\n",
       "      <td>78.0</td>\n",
       "      <td>69.5</td>\n",
       "      <td>61.0</td>\n",
       "      <td>55.0</td>\n",
       "      <td>Cinema</td>\n",
       "      <td>1 - 2 Hour</td>\n",
       "      <td>Anytime</td>\n",
       "      <td>13000</td>\n",
       "      <td>Yes</td>\n",
       "      <td>50%</td>\n",
       "      <td>More than 2 hour</td>\n",
       "      <td>30 - 60 minutes</td>\n",
       "      <td>Awful</td>\n",
       "      <td>Bad</td>\n",
       "      <td>No</td>\n",
       "    </tr>\n",
       "    <tr>\n",
       "      <th>3</th>\n",
       "      <td>Yes</td>\n",
       "      <td>Female</td>\n",
       "      <td>BCA</td>\n",
       "      <td>147.0</td>\n",
       "      <td>20.0</td>\n",
       "      <td>70.0</td>\n",
       "      <td>59.0</td>\n",
       "      <td>58.0</td>\n",
       "      <td>Reading books</td>\n",
       "      <td>1 - 2 Hour</td>\n",
       "      <td>Anytime</td>\n",
       "      <td>1500000</td>\n",
       "      <td>No</td>\n",
       "      <td>50%</td>\n",
       "      <td>1.30 - 2 hour</td>\n",
       "      <td>0 - 30 minutes</td>\n",
       "      <td>Bad</td>\n",
       "      <td>good</td>\n",
       "      <td>No</td>\n",
       "    </tr>\n",
       "    <tr>\n",
       "      <th>4</th>\n",
       "      <td>No</td>\n",
       "      <td>Male</td>\n",
       "      <td>BCA</td>\n",
       "      <td>170.0</td>\n",
       "      <td>54.0</td>\n",
       "      <td>40.0</td>\n",
       "      <td>65.0</td>\n",
       "      <td>30.0</td>\n",
       "      <td>Video Games</td>\n",
       "      <td>30 - 60 minute</td>\n",
       "      <td>Morning</td>\n",
       "      <td>50000</td>\n",
       "      <td>Yes</td>\n",
       "      <td>25%</td>\n",
       "      <td>1.30 - 2 hour</td>\n",
       "      <td>30 - 60 minutes</td>\n",
       "      <td>Good</td>\n",
       "      <td>good</td>\n",
       "      <td>No</td>\n",
       "    </tr>\n",
       "  </tbody>\n",
       "</table>\n",
       "</div>"
      ],
      "text/plain": [
       "  Have you completed any certification courses, or are you currently enrolled in any?  \\\n",
       "0                                                 No                                    \n",
       "1                                                 No                                    \n",
       "2                                                Yes                                    \n",
       "3                                                Yes                                    \n",
       "4                                                 No                                    \n",
       "\n",
       "   Gender Department  Height(CM)  Weight(KG)  10th Mark  12th Mark  \\\n",
       "0    Male        BCA       100.0        58.0       79.0       65.0   \n",
       "1  Female        BCA        90.0        40.0       70.0       80.0   \n",
       "2    Male        BCA       159.0        78.0       69.5       61.0   \n",
       "3  Female        BCA       147.0        20.0       70.0       59.0   \n",
       "4    Male        BCA       170.0        54.0       40.0       65.0   \n",
       "\n",
       "   college mark        hobbies daily studing time prefer to study in  \\\n",
       "0          80.0    Video Games      0 - 30 minute            Morning   \n",
       "1          70.0         Cinema     30 - 60 minute            Morning   \n",
       "2          55.0         Cinema         1 - 2 Hour            Anytime   \n",
       "3          58.0  Reading books         1 - 2 Hour            Anytime   \n",
       "4          30.0    Video Games     30 - 60 minute            Morning   \n",
       "\n",
       "   salary expectation Do you like your degree?  \\\n",
       "0               40000                       No   \n",
       "1               15000                      Yes   \n",
       "2               13000                      Yes   \n",
       "3             1500000                       No   \n",
       "4               50000                      Yes   \n",
       "\n",
       "  possibility of choosing  their career based on their degree :   \\\n",
       "0                                                50%               \n",
       "1                                                75%               \n",
       "2                                                50%               \n",
       "3                                                50%               \n",
       "4                                                25%               \n",
       "\n",
       "  social medai & video games spending Time Travelling Time  Stress Level   \\\n",
       "0                            1.30 - 2 hour  30 - 60 minutes           Bad   \n",
       "1                            1 - 1.30 hour   0 - 30 minutes           Bad   \n",
       "2                         More than 2 hour  30 - 60 minutes         Awful   \n",
       "3                            1.30 - 2 hour   0 - 30 minutes           Bad   \n",
       "4                            1.30 - 2 hour  30 - 60 minutes          Good   \n",
       "\n",
       "  Financial Status Are you doing a part-time job right now?  \n",
       "0              Bad                                       No  \n",
       "1              Bad                                       No  \n",
       "2              Bad                                       No  \n",
       "3             good                                       No  \n",
       "4             good                                       No  "
      ]
     },
     "execution_count": 83,
     "metadata": {},
     "output_type": "execute_result"
    }
   ],
   "source": [
    "#reading the student behavior csv file\n",
    "df = pd.read_csv(\"Student_Behaviour.csv\")\n",
    "\n",
    "df.head()"
   ]
  },
  {
   "cell_type": "code",
   "execution_count": 84,
   "metadata": {},
   "outputs": [
    {
     "name": "stdout",
     "output_type": "stream",
     "text": [
      "['1.30 - 2 hour' '1 - 1.30 hour' 'More than 2 hour' '30 - 60 Minute'\n",
      " '1 - 30 Minute' '0 Minute']\n",
      "['Bad' 'Awful' 'Good' 'fabulous']\n"
     ]
    }
   ],
   "source": [
    "print(df[\"social medai & video games spending Time\"].unique())\n",
    "print(df[\"Stress Level \"].unique())"
   ]
  },
  {
   "cell_type": "code",
   "execution_count": 98,
   "metadata": {},
   "outputs": [
    {
     "data": {
      "text/html": [
       "<div>\n",
       "<style scoped>\n",
       "    .dataframe tbody tr th:only-of-type {\n",
       "        vertical-align: middle;\n",
       "    }\n",
       "\n",
       "    .dataframe tbody tr th {\n",
       "        vertical-align: top;\n",
       "    }\n",
       "\n",
       "    .dataframe thead th {\n",
       "        text-align: right;\n",
       "    }\n",
       "</style>\n",
       "<table border=\"1\" class=\"dataframe\">\n",
       "  <thead>\n",
       "    <tr style=\"text-align: right;\">\n",
       "      <th></th>\n",
       "      <th>Total NaN Values</th>\n",
       "      <th>Percentage of NaN Values</th>\n",
       "    </tr>\n",
       "  </thead>\n",
       "  <tbody>\n",
       "    <tr>\n",
       "      <th>Are you doing a part-time job right now?</th>\n",
       "      <td>0</td>\n",
       "      <td>0.0</td>\n",
       "    </tr>\n",
       "    <tr>\n",
       "      <th>hobbies</th>\n",
       "      <td>0</td>\n",
       "      <td>0.0</td>\n",
       "    </tr>\n",
       "    <tr>\n",
       "      <th>Gender</th>\n",
       "      <td>0</td>\n",
       "      <td>0.0</td>\n",
       "    </tr>\n",
       "    <tr>\n",
       "      <th>Department</th>\n",
       "      <td>0</td>\n",
       "      <td>0.0</td>\n",
       "    </tr>\n",
       "    <tr>\n",
       "      <th>Height(CM)</th>\n",
       "      <td>0</td>\n",
       "      <td>0.0</td>\n",
       "    </tr>\n",
       "    <tr>\n",
       "      <th>Weight(KG)</th>\n",
       "      <td>0</td>\n",
       "      <td>0.0</td>\n",
       "    </tr>\n",
       "    <tr>\n",
       "      <th>10th Mark</th>\n",
       "      <td>0</td>\n",
       "      <td>0.0</td>\n",
       "    </tr>\n",
       "    <tr>\n",
       "      <th>12th Mark</th>\n",
       "      <td>0</td>\n",
       "      <td>0.0</td>\n",
       "    </tr>\n",
       "    <tr>\n",
       "      <th>college mark</th>\n",
       "      <td>0</td>\n",
       "      <td>0.0</td>\n",
       "    </tr>\n",
       "    <tr>\n",
       "      <th>daily studing time</th>\n",
       "      <td>0</td>\n",
       "      <td>0.0</td>\n",
       "    </tr>\n",
       "    <tr>\n",
       "      <th>Financial Status</th>\n",
       "      <td>0</td>\n",
       "      <td>0.0</td>\n",
       "    </tr>\n",
       "    <tr>\n",
       "      <th>prefer to study in</th>\n",
       "      <td>0</td>\n",
       "      <td>0.0</td>\n",
       "    </tr>\n",
       "    <tr>\n",
       "      <th>salary expectation</th>\n",
       "      <td>0</td>\n",
       "      <td>0.0</td>\n",
       "    </tr>\n",
       "    <tr>\n",
       "      <th>Do you like your degree?</th>\n",
       "      <td>0</td>\n",
       "      <td>0.0</td>\n",
       "    </tr>\n",
       "    <tr>\n",
       "      <th>possibility of choosing  their career based on their degree :</th>\n",
       "      <td>0</td>\n",
       "      <td>0.0</td>\n",
       "    </tr>\n",
       "    <tr>\n",
       "      <th>social medai &amp; video games spending Time</th>\n",
       "      <td>0</td>\n",
       "      <td>0.0</td>\n",
       "    </tr>\n",
       "    <tr>\n",
       "      <th>Travelling Time</th>\n",
       "      <td>0</td>\n",
       "      <td>0.0</td>\n",
       "    </tr>\n",
       "    <tr>\n",
       "      <th>Stress Level</th>\n",
       "      <td>0</td>\n",
       "      <td>0.0</td>\n",
       "    </tr>\n",
       "    <tr>\n",
       "      <th>Have you completed any certification courses, or are you currently enrolled in any?</th>\n",
       "      <td>0</td>\n",
       "      <td>0.0</td>\n",
       "    </tr>\n",
       "  </tbody>\n",
       "</table>\n",
       "</div>"
      ],
      "text/plain": [
       "                                                    Total NaN Values  \\\n",
       "Are you doing a part-time job right now?                           0   \n",
       "hobbies                                                            0   \n",
       "Gender                                                             0   \n",
       "Department                                                         0   \n",
       "Height(CM)                                                         0   \n",
       "Weight(KG)                                                         0   \n",
       "10th Mark                                                          0   \n",
       "12th Mark                                                          0   \n",
       "college mark                                                       0   \n",
       "daily studing time                                                 0   \n",
       "Financial Status                                                   0   \n",
       "prefer to study in                                                 0   \n",
       "salary expectation                                                 0   \n",
       "Do you like your degree?                                           0   \n",
       "possibility of choosing  their career based on ...                 0   \n",
       "social medai & video games spending Time                           0   \n",
       "Travelling Time                                                    0   \n",
       "Stress Level                                                       0   \n",
       "Have you completed any certification courses, o...                 0   \n",
       "\n",
       "                                                    Percentage of NaN Values  \n",
       "Are you doing a part-time job right now?                                 0.0  \n",
       "hobbies                                                                  0.0  \n",
       "Gender                                                                   0.0  \n",
       "Department                                                               0.0  \n",
       "Height(CM)                                                               0.0  \n",
       "Weight(KG)                                                               0.0  \n",
       "10th Mark                                                                0.0  \n",
       "12th Mark                                                                0.0  \n",
       "college mark                                                             0.0  \n",
       "daily studing time                                                       0.0  \n",
       "Financial Status                                                         0.0  \n",
       "prefer to study in                                                       0.0  \n",
       "salary expectation                                                       0.0  \n",
       "Do you like your degree?                                                 0.0  \n",
       "possibility of choosing  their career based on ...                       0.0  \n",
       "social medai & video games spending Time                                 0.0  \n",
       "Travelling Time                                                          0.0  \n",
       "Stress Level                                                             0.0  \n",
       "Have you completed any certification courses, o...                       0.0  "
      ]
     },
     "execution_count": 98,
     "metadata": {},
     "output_type": "execute_result"
    }
   ],
   "source": [
    "#doing some preparation  \n",
    "def missing_data(df):\n",
    "    total = df.isnull().sum().sort_values(ascending = False)\n",
    "    percent = (df.isnull().sum()/df.isnull().count()*100).sort_values(ascending = False)\n",
    "    return pd.concat([total, percent], axis=1, keys=['Total NaN Values', 'Percentage of NaN Values'])\n",
    "\n",
    "missing_data(df)"
   ]
  },
  {
   "cell_type": "markdown",
   "metadata": {},
   "source": [
    "The dataset contains 235 row and 19 columns.\n",
    " The 19 columns:"
   ]
  },
  {
   "cell_type": "code",
   "execution_count": 86,
   "metadata": {},
   "outputs": [
    {
     "data": {
      "text/plain": [
       "Index(['Have you completed any certification courses, or are you currently enrolled in any?',\n",
       "       'Gender', 'Department', 'Height(CM)', 'Weight(KG)', '10th Mark',\n",
       "       '12th Mark', 'college mark', 'hobbies', 'daily studing time',\n",
       "       'prefer to study in', 'salary expectation', 'Do you like your degree?',\n",
       "       'possibility of choosing  their career based on their degree : ',\n",
       "       'social medai & video games spending Time', 'Travelling Time ',\n",
       "       'Stress Level ', 'Financial Status',\n",
       "       'Are you doing a part-time job right now?'],\n",
       "      dtype='object')"
      ]
     },
     "execution_count": 86,
     "metadata": {},
     "output_type": "execute_result"
    }
   ],
   "source": [
    "df.columns"
   ]
  },
  {
   "cell_type": "markdown",
   "metadata": {},
   "source": [
    "The dataset of student behavior does not contain any missing value, or nan values."
   ]
  },
  {
   "cell_type": "code",
   "execution_count": 87,
   "metadata": {
    "scrolled": true
   },
   "outputs": [],
   "source": [
    "#df.corr"
   ]
  },
  {
   "cell_type": "code",
   "execution_count": 88,
   "metadata": {},
   "outputs": [
    {
     "data": {
      "text/plain": [
       "array(['0 - 30 minute', '30 - 60 minute', '1 - 2 Hour', '2 - 3 hour',\n",
       "       '3 - 4 hour', 'More Than 4 hour'], dtype=object)"
      ]
     },
     "execution_count": 88,
     "metadata": {},
     "output_type": "execute_result"
    }
   ],
   "source": [
    "df['daily studing time'].unique()"
   ]
  },
  {
   "cell_type": "code",
   "execution_count": 89,
   "metadata": {},
   "outputs": [],
   "source": [
    "study_time_mapping = {\n",
    "    '0 - 30 minute':1,\n",
    "    '30 - 60 minute':2,\n",
    "    '1 - 2 Hour':3,\n",
    "    '2 - 3 hour': 4, \n",
    "    '3 - 4 hour':5, \n",
    "    'More Than 4 hour': 6\n",
    "}"
   ]
  },
  {
   "cell_type": "code",
   "execution_count": 90,
   "metadata": {},
   "outputs": [],
   "source": [
    "df[\"daily studing time\"].replace(study_time_mapping, inplace=True)\n"
   ]
  },
  {
   "cell_type": "code",
   "execution_count": 94,
   "metadata": {},
   "outputs": [
    {
     "data": {
      "image/png": "[encoded data removed]",
      "text/plain": [
       "<Figure size 432x288 with 1 Axes>"
      ]
     },
     "metadata": {
      "needs_background": "light"
     },
     "output_type": "display_data"
    }
   ],
   "source": [
    "x =df['daily studing time']\n",
    "plt.hist(x, bins = 30)\n",
    "plt.title('How many hours do students study?')\n",
    "plt.xlabel('Categories')\n",
    "plt.ylabel('Count')\n",
    "plt.show()"
   ]
  },
  {
   "cell_type": "code",
   "execution_count": 96,
   "metadata": {},
   "outputs": [],
   "source": [
    "socialmedia_time_mapping = {\n",
    "    '0 Minute':0,\n",
    "    '1 - 30 Minute':1,\n",
    "    '30 - 60 Minute':2,\n",
    "    '1 - 1.30 hour':3,\n",
    "    '1.30 - 2 hour':4,\n",
    "    'More than 2 hour': 5, \n",
    "    \n",
    "}"
   ]
  },
  {
   "cell_type": "code",
   "execution_count": 97,
   "metadata": {},
   "outputs": [],
   "source": [
    "df[\"social medai & video games spending Time\"].replace(socialmedia_time_mapping, inplace=True)"
   ]
  },
  {
   "cell_type": "code",
   "execution_count": 52,
   "metadata": {},
   "outputs": [
    {
     "data": {
      "image/png": "[encoded data removed]",
      "text/plain": [
       "<Figure size 432x288 with 1 Axes>"
      ]
     },
     "metadata": {
      "needs_background": "light"
     },
     "output_type": "display_data"
    }
   ],
   "source": [
    "x =df['social medai & video games spending Time']\n",
    "plt.hist(x, bins = 30)\n",
    "plt.title('How much time students spend on ocial media and video game?')\n",
    "plt.xlabel('Hours spent')\n",
    "plt.ylabel('Student Count')\n",
    "plt.show()"
   ]
  },
  {
   "cell_type": "code",
   "execution_count": 100,
   "metadata": {},
   "outputs": [
    {
     "data": {
      "image/png": "[encoded data removed]",
      "text/plain": [
       "<Figure size 432x288 with 1 Axes>"
      ]
     },
     "metadata": {
      "needs_background": "light"
     },
     "output_type": "display_data"
    }
   ],
   "source": [
    "x =df['Stress Level ']\n",
    "plt.hist(x, bins = 30)\n",
    "plt.title('What is the repartition of Stress level?')\n",
    "plt.xlabel('Type of Stress')\n",
    "plt.ylabel('Student Count impacted')\n",
    "plt.show()"
   ]
  },
  {
   "cell_type": "code",
   "execution_count": 103,
   "metadata": {},
   "outputs": [
    {
     "name": "stdout",
     "output_type": "stream",
     "text": [
      "['Male' 'Female']\n"
     ]
    }
   ],
   "source": [
    "unique_values = pd.unique(df[\"Gender\"])\n",
    "print(unique_values)"
   ]
  },
  {
   "cell_type": "code",
   "execution_count": 105,
   "metadata": {},
   "outputs": [
    {
     "data": {
      "image/png": "[encoded data removed]",
      "text/plain": [
       "<Figure size 432x288 with 1 Axes>"
      ]
     },
     "metadata": {
      "needs_background": "light"
     },
     "output_type": "display_data"
    }
   ],
   "source": [
    "x =df['Gender']\n",
    "plt.hist(x, bins = 10)\n",
    "plt.title('What is the repartition of Gender?')\n",
    "plt.xlabel('Count')\n",
    "plt.ylabel('Sex')\n",
    "plt.show()"
   ]
  },
  {
   "cell_type": "code",
   "execution_count": null,
   "metadata": {},
   "outputs": [],
   "source": []
  },
  {
   "cell_type": "code",
   "execution_count": null,
   "metadata": {},
   "outputs": [],
   "source": []
  }
 ],
 "metadata": {
  "kernelspec": {
   "display_name": "Python 3",
   "language": "python",
   "name": "python3"
  },
  "language_info": {
   "codemirror_mode": {
    "name": "ipython",
    "version": 3
   },
   "file_extension": ".py",
   "mimetype": "text/x-python",
   "name": "python",
   "nbconvert_exporter": "python",
   "pygments_lexer": "ipython3",
   "version": "3.8.5"
  }
 },
 "nbformat": 4,
 "nbformat_minor": 4
}
